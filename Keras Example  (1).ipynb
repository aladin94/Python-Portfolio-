{
 "cells": [
  {
   "cell_type": "code",
   "execution_count": 1,
   "metadata": {},
   "outputs": [
    {
     "name": "stderr",
     "output_type": "stream",
     "text": [
      "Using TensorFlow backend.\n"
     ]
    }
   ],
   "source": [
    "import numpy as np\n",
    "import pandas as pd\n",
    "import matplotlib.pyplot as plt\n",
    "import keras\n",
    "from keras.models import Sequential\n",
    "from keras.layers import Dense"
   ]
  },
  {
   "cell_type": "code",
   "execution_count": 8,
   "metadata": {},
   "outputs": [],
   "source": [
    "df = pd.read_csv('C:\\\\Users\\\\admir\\\\Desktop\\\\Churn_Modelling.csv')"
   ]
  },
  {
   "cell_type": "code",
   "execution_count": 11,
   "metadata": {},
   "outputs": [],
   "source": [
    "X = dataset.iloc[:, 3:13].values\n",
    "y = dataset.iloc[:, 13].values"
   ]
  },
  {
   "cell_type": "code",
   "execution_count": 12,
   "metadata": {},
   "outputs": [],
   "source": [
    "from sklearn.preprocessing import LabelEncoder, OneHotEncoder\n",
    "labelencoder_X_1 = LabelEncoder()\n",
    "X[:, 1] = labelencoder_X_1.fit_transform(X[:, 1])\n",
    "labelencoder_X_2 = LabelEncoder()\n",
    "X[:, 2] = labelencoder_X_2.fit_transform(X[:, 2])\n",
    "onehotencoder = OneHotEncoder(categorical_features = [1])\n",
    "X = onehotencoder.fit_transform(X).toarray()\n",
    "X = X[:, 1:]"
   ]
  },
  {
   "cell_type": "code",
   "execution_count": 13,
   "metadata": {},
   "outputs": [],
   "source": [
    "from sklearn.model_selection import train_test_split\n",
    "X_train, X_test, y_train, y_test = train_test_split(X, y, test_size = 0.2, random_state = 0)\n"
   ]
  },
  {
   "cell_type": "code",
   "execution_count": 14,
   "metadata": {},
   "outputs": [],
   "source": [
    "from sklearn.preprocessing import StandardScaler\n",
    "sc = StandardScaler()\n",
    "X_train = sc.fit_transform(X_train)\n",
    "X_test = sc.transform(X_test)"
   ]
  },
  {
   "cell_type": "code",
   "execution_count": 15,
   "metadata": {},
   "outputs": [
    {
     "name": "stdout",
     "output_type": "stream",
     "text": [
      "WARNING:tensorflow:From C:\\Users\\admir\\Anaconda3\\lib\\site-packages\\tensorflow\\python\\framework\\op_def_library.py:263: colocate_with (from tensorflow.python.framework.ops) is deprecated and will be removed in a future version.\n",
      "Instructions for updating:\n",
      "Colocations handled automatically by placer.\n",
      "WARNING:tensorflow:From C:\\Users\\admir\\Anaconda3\\lib\\site-packages\\tensorflow\\python\\ops\\math_ops.py:3066: to_int32 (from tensorflow.python.ops.math_ops) is deprecated and will be removed in a future version.\n",
      "Instructions for updating:\n",
      "Use tf.cast instead.\n",
      "Epoch 1/100\n",
      "8000/8000 [==============================] - 1s 179us/step - loss: 0.4790 - acc: 0.7960\n",
      "Epoch 2/100\n",
      "8000/8000 [==============================] - 1s 77us/step - loss: 0.4266 - acc: 0.7960\n",
      "Epoch 3/100\n",
      "8000/8000 [==============================] - 1s 77us/step - loss: 0.4205 - acc: 0.8079\n",
      "Epoch 4/100\n",
      "8000/8000 [==============================] - 1s 76us/step - loss: 0.4173 - acc: 0.8267\n",
      "Epoch 5/100\n",
      "8000/8000 [==============================] - 1s 80us/step - loss: 0.4153 - acc: 0.8299\n",
      "Epoch 6/100\n",
      "8000/8000 [==============================] - 1s 77us/step - loss: 0.4135 - acc: 0.8312\n",
      "Epoch 7/100\n",
      "8000/8000 [==============================] - 1s 76us/step - loss: 0.4120 - acc: 0.8325\n",
      "Epoch 8/100\n",
      "8000/8000 [==============================] - 1s 77us/step - loss: 0.4105 - acc: 0.8339\n",
      "Epoch 9/100\n",
      "8000/8000 [==============================] - 1s 77us/step - loss: 0.4098 - acc: 0.8337\n",
      "Epoch 10/100\n",
      "8000/8000 [==============================] - 1s 76us/step - loss: 0.4088 - acc: 0.8339\n",
      "Epoch 11/100\n",
      "8000/8000 [==============================] - 1s 77us/step - loss: 0.4075 - acc: 0.8347\n",
      "Epoch 12/100\n",
      "8000/8000 [==============================] - 1s 77us/step - loss: 0.4071 - acc: 0.8332\n",
      "Epoch 13/100\n",
      "8000/8000 [==============================] - 1s 83us/step - loss: 0.4063 - acc: 0.8352\n",
      "Epoch 14/100\n",
      "8000/8000 [==============================] - 1s 76us/step - loss: 0.4062 - acc: 0.8342\n",
      "Epoch 15/100\n",
      "8000/8000 [==============================] - 1s 78us/step - loss: 0.4057 - acc: 0.8340\n",
      "Epoch 16/100\n",
      "8000/8000 [==============================] - 1s 78us/step - loss: 0.4056 - acc: 0.8355\n",
      "Epoch 17/100\n",
      "8000/8000 [==============================] - 1s 77us/step - loss: 0.4046 - acc: 0.8339\n",
      "Epoch 18/100\n",
      "8000/8000 [==============================] - 1s 77us/step - loss: 0.4045 - acc: 0.8340\n",
      "Epoch 19/100\n",
      "8000/8000 [==============================] - 1s 83us/step - loss: 0.4038 - acc: 0.8359\n",
      "Epoch 20/100\n",
      "8000/8000 [==============================] - 1s 77us/step - loss: 0.4042 - acc: 0.8350\n",
      "Epoch 21/100\n",
      "8000/8000 [==============================] - 1s 79us/step - loss: 0.4036 - acc: 0.8350\n",
      "Epoch 22/100\n",
      "8000/8000 [==============================] - 1s 78us/step - loss: 0.4034 - acc: 0.8345\n",
      "Epoch 23/100\n",
      "8000/8000 [==============================] - 1s 78us/step - loss: 0.4031 - acc: 0.8340\n",
      "Epoch 24/100\n",
      "8000/8000 [==============================] - 1s 78us/step - loss: 0.4033 - acc: 0.8346\n",
      "Epoch 25/100\n",
      "8000/8000 [==============================] - 1s 75us/step - loss: 0.4032 - acc: 0.8345\n",
      "Epoch 26/100\n",
      "8000/8000 [==============================] - 1s 78us/step - loss: 0.4022 - acc: 0.8332\n",
      "Epoch 27/100\n",
      "8000/8000 [==============================] - 1s 78us/step - loss: 0.4028 - acc: 0.8335\n",
      "Epoch 28/100\n",
      "8000/8000 [==============================] - 1s 77us/step - loss: 0.4025 - acc: 0.8350\n",
      "Epoch 29/100\n",
      "8000/8000 [==============================] - 1s 76us/step - loss: 0.4025 - acc: 0.8357\n",
      "Epoch 30/100\n",
      "8000/8000 [==============================] - 1s 77us/step - loss: 0.4021 - acc: 0.8339\n",
      "Epoch 31/100\n",
      "8000/8000 [==============================] - 1s 77us/step - loss: 0.4022 - acc: 0.8365\n",
      "Epoch 32/100\n",
      "8000/8000 [==============================] - 1s 77us/step - loss: 0.4019 - acc: 0.8370\n",
      "Epoch 33/100\n",
      "8000/8000 [==============================] - 1s 76us/step - loss: 0.4021 - acc: 0.8356\n",
      "Epoch 34/100\n",
      "8000/8000 [==============================] - 1s 78us/step - loss: 0.4013 - acc: 0.8356\n",
      "Epoch 35/100\n",
      "8000/8000 [==============================] - 1s 80us/step - loss: 0.4015 - acc: 0.8357\n",
      "Epoch 36/100\n",
      "8000/8000 [==============================] - 1s 82us/step - loss: 0.4021 - acc: 0.8352\n",
      "Epoch 37/100\n",
      "8000/8000 [==============================] - 1s 79us/step - loss: 0.4017 - acc: 0.8349\n",
      "Epoch 38/100\n",
      "8000/8000 [==============================] - 1s 78us/step - loss: 0.4017 - acc: 0.8350\n",
      "Epoch 39/100\n",
      "8000/8000 [==============================] - 1s 78us/step - loss: 0.4014 - acc: 0.8349\n",
      "Epoch 40/100\n",
      "8000/8000 [==============================] - 1s 76us/step - loss: 0.4017 - acc: 0.8342\n",
      "Epoch 41/100\n",
      "8000/8000 [==============================] - 1s 76us/step - loss: 0.4010 - acc: 0.8360\n",
      "Epoch 42/100\n",
      "8000/8000 [==============================] - 1s 77us/step - loss: 0.4013 - acc: 0.8337\n",
      "Epoch 43/100\n",
      "8000/8000 [==============================] - 1s 78us/step - loss: 0.4014 - acc: 0.8336\n",
      "Epoch 44/100\n",
      "8000/8000 [==============================] - 1s 76us/step - loss: 0.4014 - acc: 0.8357\n",
      "Epoch 45/100\n",
      "8000/8000 [==============================] - 1s 78us/step - loss: 0.4017 - acc: 0.8346\n",
      "Epoch 46/100\n",
      "8000/8000 [==============================] - 1s 76us/step - loss: 0.4011 - acc: 0.8355\n",
      "Epoch 47/100\n",
      "8000/8000 [==============================] - 1s 77us/step - loss: 0.4016 - acc: 0.8340\n",
      "Epoch 48/100\n",
      "8000/8000 [==============================] - 1s 77us/step - loss: 0.4009 - acc: 0.8357\n",
      "Epoch 49/100\n",
      "8000/8000 [==============================] - 1s 78us/step - loss: 0.4009 - acc: 0.8365\n",
      "Epoch 50/100\n",
      "8000/8000 [==============================] - 1s 78us/step - loss: 0.4007 - acc: 0.8354\n",
      "Epoch 51/100\n",
      "8000/8000 [==============================] - 1s 78us/step - loss: 0.4013 - acc: 0.8351\n",
      "Epoch 52/100\n",
      "8000/8000 [==============================] - 1s 78us/step - loss: 0.4004 - acc: 0.8355\n",
      "Epoch 53/100\n",
      "8000/8000 [==============================] - 1s 76us/step - loss: 0.4008 - acc: 0.8342\n",
      "Epoch 54/100\n",
      "8000/8000 [==============================] - 1s 76us/step - loss: 0.4004 - acc: 0.8349\n",
      "Epoch 55/100\n",
      "8000/8000 [==============================] - 1s 77us/step - loss: 0.4007 - acc: 0.8334\n",
      "Epoch 56/100\n",
      "8000/8000 [==============================] - 1s 80us/step - loss: 0.4005 - acc: 0.8349\n",
      "Epoch 57/100\n",
      "8000/8000 [==============================] - 1s 79us/step - loss: 0.4008 - acc: 0.8350\n",
      "Epoch 58/100\n",
      "8000/8000 [==============================] - 1s 77us/step - loss: 0.4007 - acc: 0.8352\n",
      "Epoch 59/100\n",
      "8000/8000 [==============================] - 1s 77us/step - loss: 0.4004 - acc: 0.8346\n",
      "Epoch 60/100\n",
      "8000/8000 [==============================] - 1s 78us/step - loss: 0.4007 - acc: 0.8351\n",
      "Epoch 61/100\n",
      "8000/8000 [==============================] - 1s 77us/step - loss: 0.4002 - acc: 0.8357\n",
      "Epoch 62/100\n",
      "8000/8000 [==============================] - 1s 77us/step - loss: 0.4003 - acc: 0.8345\n",
      "Epoch 63/100\n",
      "8000/8000 [==============================] - 1s 76us/step - loss: 0.4010 - acc: 0.8349\n",
      "Epoch 64/100\n",
      "8000/8000 [==============================] - 1s 77us/step - loss: 0.4003 - acc: 0.8351\n",
      "Epoch 65/100\n",
      "8000/8000 [==============================] - 1s 77us/step - loss: 0.4006 - acc: 0.8347\n",
      "Epoch 66/100\n",
      "8000/8000 [==============================] - 1s 77us/step - loss: 0.4003 - acc: 0.8350\n",
      "Epoch 67/100\n",
      "8000/8000 [==============================] - 1s 76us/step - loss: 0.4005 - acc: 0.8350\n",
      "Epoch 68/100\n",
      "8000/8000 [==============================] - 1s 77us/step - loss: 0.3998 - acc: 0.8336\n",
      "Epoch 69/100\n",
      "8000/8000 [==============================] - 1s 79us/step - loss: 0.4008 - acc: 0.8347\n",
      "Epoch 70/100\n",
      "8000/8000 [==============================] - 1s 83us/step - loss: 0.4002 - acc: 0.8351\n",
      "Epoch 71/100\n",
      "8000/8000 [==============================] - 1s 77us/step - loss: 0.4006 - acc: 0.8362\n",
      "Epoch 72/100\n",
      "8000/8000 [==============================] - 1s 77us/step - loss: 0.4004 - acc: 0.8341\n",
      "Epoch 73/100\n",
      "8000/8000 [==============================] - 1s 77us/step - loss: 0.4002 - acc: 0.8340\n",
      "Epoch 74/100\n",
      "8000/8000 [==============================] - 1s 76us/step - loss: 0.4004 - acc: 0.8349\n",
      "Epoch 75/100\n",
      "8000/8000 [==============================] - 1s 77us/step - loss: 0.4008 - acc: 0.8341\n",
      "Epoch 76/100\n",
      "8000/8000 [==============================] - 1s 78us/step - loss: 0.4004 - acc: 0.8351\n",
      "Epoch 77/100\n",
      "8000/8000 [==============================] - 1s 85us/step - loss: 0.4002 - acc: 0.8339\n",
      "Epoch 78/100\n",
      "8000/8000 [==============================] - 1s 82us/step - loss: 0.4006 - acc: 0.8346\n",
      "Epoch 79/100\n",
      "8000/8000 [==============================] - 1s 81us/step - loss: 0.4004 - acc: 0.8342: 0s - loss: 0.3800 -\n",
      "Epoch 80/100\n",
      "8000/8000 [==============================] - 1s 81us/step - loss: 0.4003 - acc: 0.8331\n",
      "Epoch 81/100\n",
      "8000/8000 [==============================] - 1s 87us/step - loss: 0.4001 - acc: 0.8374\n",
      "Epoch 82/100\n",
      "8000/8000 [==============================] - 1s 78us/step - loss: 0.4005 - acc: 0.8361\n",
      "Epoch 83/100\n",
      "8000/8000 [==============================] - 1s 82us/step - loss: 0.4003 - acc: 0.8342\n",
      "Epoch 84/100\n",
      "8000/8000 [==============================] - 1s 77us/step - loss: 0.4001 - acc: 0.8340\n",
      "Epoch 85/100\n",
      "8000/8000 [==============================] - 1s 88us/step - loss: 0.3996 - acc: 0.8372\n",
      "Epoch 86/100\n",
      "8000/8000 [==============================] - 1s 78us/step - loss: 0.4004 - acc: 0.8347\n",
      "Epoch 87/100\n",
      "8000/8000 [==============================] - 1s 83us/step - loss: 0.4001 - acc: 0.8337\n",
      "Epoch 88/100\n",
      "8000/8000 [==============================] - 1s 80us/step - loss: 0.4004 - acc: 0.8344\n",
      "Epoch 89/100\n",
      "8000/8000 [==============================] - 1s 103us/step - loss: 0.4000 - acc: 0.8341\n",
      "Epoch 90/100\n",
      "8000/8000 [==============================] - 1s 129us/step - loss: 0.3998 - acc: 0.8341\n",
      "Epoch 91/100\n",
      "8000/8000 [==============================] - 1s 122us/step - loss: 0.3999 - acc: 0.8344\n",
      "Epoch 92/100\n",
      "8000/8000 [==============================] - 1s 144us/step - loss: 0.4001 - acc: 0.8345\n",
      "Epoch 93/100\n",
      "8000/8000 [==============================] - 1s 141us/step - loss: 0.4000 - acc: 0.8337\n",
      "Epoch 94/100\n",
      "8000/8000 [==============================] - 1s 134us/step - loss: 0.4003 - acc: 0.8359\n",
      "Epoch 95/100\n",
      "8000/8000 [==============================] - 1s 123us/step - loss: 0.3999 - acc: 0.8356\n",
      "Epoch 96/100\n",
      "8000/8000 [==============================] - 1s 101us/step - loss: 0.4005 - acc: 0.8345\n",
      "Epoch 97/100\n",
      "8000/8000 [==============================] - 1s 106us/step - loss: 0.4003 - acc: 0.8365\n",
      "Epoch 98/100\n",
      "8000/8000 [==============================] - 1s 102us/step - loss: 0.3998 - acc: 0.8331\n",
      "Epoch 99/100\n",
      "8000/8000 [==============================] - 1s 107us/step - loss: 0.4002 - acc: 0.8341\n",
      "Epoch 100/100\n",
      "8000/8000 [==============================] - 1s 112us/step - loss: 0.3999 - acc: 0.8327\n"
     ]
    },
    {
     "data": {
      "text/plain": [
       "<keras.callbacks.History at 0x13d2654d940>"
      ]
     },
     "execution_count": 15,
     "metadata": {},
     "output_type": "execute_result"
    }
   ],
   "source": [
    "#Creating the Neural Network\n",
    "classifier = Sequential()\n",
    "\n",
    "classifier.add(Dense(units = 6, kernel_initializer = 'uniform', activation = 'relu', input_dim = 11))\n",
    "\n",
    "classifier.add(Dense(units = 6, kernel_initializer = 'uniform', activation = 'relu'))\n",
    "\n",
    "classifier.add(Dense(units = 1, kernel_initializer = 'uniform', activation = 'sigmoid'))\n",
    "\n",
    "classifier.compile(optimizer = 'adam', loss = 'binary_crossentropy', metrics = ['accuracy'])\n",
    "\n",
    "classifier.fit(X_train, y_train, batch_size = 10, epochs = 100)"
   ]
  },
  {
   "cell_type": "code",
   "execution_count": 16,
   "metadata": {},
   "outputs": [],
   "source": [
    "#Let's see our accuracy. If the predict is greater than 0.5, the customer has a high chance of leaving the bank (in this scenario).\n",
    "y_pred = classifier.predict(X_test)\n",
    "y_pred = (y_pred > 0.5)"
   ]
  },
  {
   "cell_type": "code",
   "execution_count": 17,
   "metadata": {},
   "outputs": [],
   "source": [
    "# Making the Confusion Matrix\n",
    "from sklearn.metrics import confusion_matrix\n",
    "cm = confusion_matrix(y_test, y_pred)"
   ]
  },
  {
   "cell_type": "code",
   "execution_count": 18,
   "metadata": {},
   "outputs": [
    {
     "data": {
      "text/plain": [
       "array([[1542,   53],\n",
       "       [ 264,  141]], dtype=int64)"
      ]
     },
     "execution_count": 18,
     "metadata": {},
     "output_type": "execute_result"
    }
   ],
   "source": [
    "cm"
   ]
  },
  {
   "cell_type": "code",
   "execution_count": 22,
   "metadata": {},
   "outputs": [],
   "source": [
    "#Our accuracy can be estimated by adding our True Positives & Negatives and dividing by the total amount of observations:\n",
    "#(1542 + 141)/2000 = 84.2%\n",
    "#Not bad but we can certainly increase it with feature engineering."
   ]
  }
 ],
 "metadata": {
  "kernelspec": {
   "display_name": "Python 3",
   "language": "python",
   "name": "python3"
  },
  "language_info": {
   "codemirror_mode": {
    "name": "ipython",
    "version": 3
   },
   "file_extension": ".py",
   "mimetype": "text/x-python",
   "name": "python",
   "nbconvert_exporter": "python",
   "pygments_lexer": "ipython3",
   "version": "3.7.0"
  }
 },
 "nbformat": 4,
 "nbformat_minor": 2
}
