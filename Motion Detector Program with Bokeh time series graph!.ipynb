{
 "cells": [
  {
   "cell_type": "markdown",
   "metadata": {},
   "source": [
    "## This program is designed to capture movements using the user's webcam. It opens several files for video-capturing in greyscale, negative, and colored scale (with contours designed to track on-screen movement). The end result returns a List of frame's; 0 indicating no objects on the screen, and 1 indicating an object. The last portion of code is used to create a Bokeh time series plot to demonstrate movement using the DateTime module!"
   ]
  },
  {
   "cell_type": "code",
   "execution_count": 2,
   "metadata": {},
   "outputs": [
    {
     "name": "stdout",
     "output_type": "stream",
     "text": [
      "[1, 1]\n",
      "[datetime.datetime(2019, 8, 19, 0, 19, 42, 585530), datetime.datetime(2019, 8, 19, 0, 19, 47, 289422)]\n"
     ]
    },
    {
     "data": {
      "text/plain": [
       "<function destroyAllWindows>"
      ]
     },
     "execution_count": 2,
     "metadata": {},
     "output_type": "execute_result"
    }
   ],
   "source": [
    "import cv2, time, pandas\n",
    "from datetime import datetime\n",
    "\n",
    "\n",
    "first_frame = None\n",
    "status_list=[None, None]\n",
    "times=[]\n",
    "df=pandas.DataFrame(columns=[\"Start\", \"End\"])\n",
    "\n",
    "\n",
    "video=cv2.VideoCapture(0)\n",
    "\n",
    "\n",
    "\n",
    "while True:\n",
    "    check, frame = video.read()\n",
    "    status=0\n",
    "    gray = cv2.cvtColor(frame, cv2.COLOR_BGR2GRAY)\n",
    "    gray=cv2.GaussianBlur(gray,(21,21),0)\n",
    "\n",
    "    if first_frame is None:\n",
    "        first_frame=gray\n",
    "        continue\n",
    "\n",
    "    delta_frame = cv2.absdiff(first_frame, gray)\n",
    "\n",
    "    thresh_frame = cv2.threshold(delta_frame, 30, 255, cv2.THRESH_BINARY)[1]\n",
    "\n",
    "    thresh_frame = cv2.dilate(thresh_frame, None, iterations = 2)\n",
    "\n",
    "    (cnts, _) = cv2.findContours(thresh_frame.copy(), cv2.RETR_EXTERNAL, cv2.CHAIN_APPROX_SIMPLE)\n",
    "\n",
    "    for contour in cnts:\n",
    "        if cv2.contourArea(contour) < 1000:\n",
    "            continue\n",
    "        status=1\n",
    "        \n",
    "        (x,y,w,h) = cv2.boundingRect(contour)\n",
    "        cv2.rectangle(frame, (x,y), (x+w, y+h), (0,0,255), 3)\n",
    "    status_list.append(status)\n",
    "    \n",
    "    status_list = status_list[-2:] \n",
    "    #For memory efficiency, we return the last 2 frames of movement in our program, instead of the entire list.\n",
    "    \n",
    "    if status_list[-1]==1 and status_list[-2]==0:\n",
    "        times.append(datetime.now())\n",
    "    if status_list[-1]==0 and status_list[-2]==1:\n",
    "        times.append(datetime.now())\n",
    "\n",
    "    cv2.imshow(\"Gray Frame\",gray)\n",
    "    cv2.imshow(\"Delta Frame\",delta_frame)\n",
    "    cv2.imshow(\"Threshold frame\", thresh_frame)\n",
    "    cv2.imshow(\"Color Frame\", frame)\n",
    "\n",
    "    key=cv2.waitKey(1)\n",
    "    \n",
    "    if key == ord('q'):\n",
    "        if status==1:\n",
    "            times.append(datetime.now())\n",
    "        break\n",
    "\n",
    "print (status_list)\n",
    "print (times)\n",
    "\n",
    "for i in range(0,len(times),2):\n",
    "    df=df.append({\"Start\":times[i], \"End\":times[i+1]}, ignore_index=True)\n",
    "\n",
    "df.to_csv(\"Times.csv\")\n",
    "\n",
    "video.release()\n",
    "cv2.destroyAllWindows"
   ]
  },
  {
   "cell_type": "code",
   "execution_count": 3,
   "metadata": {},
   "outputs": [],
   "source": [
    "from bokeh.plotting import figure, show, output_file\n",
    "from bokeh.models import HoverTool, ColumnDataSource\n",
    "\n",
    "#Convert to datetime so that when user hover's over time series plot, the output is correctly formatted!\n",
    "df[\"Start_string\"] = df[\"Start\"].dt.strftime(\"%Y-%m-%d %H:%M:%S\")\n",
    "df[\"End_string\"] = df[\"End\"].dt.strftime(\"%Y-%m-%d %H:%M:%S\")\n",
    "\n",
    "\n",
    "cds=ColumnDataSource(df)\n",
    "\n",
    "fig=figure(x_axis_type='datetime', height=120, width=500, sizing_mode='scale_width', title=\"Time Series Graph\")\n",
    "fig.yaxis.minor_tick_line_color=None\n",
    "fig.ygrid[0].ticker.desired_num_ticks=1\n",
    "\n",
    "\n",
    "\n",
    "hov=HoverTool(tooltips=[(\"Start: \", \"@Start_string\"), (\"End: \",\"@End_string\")])\n",
    "fig.add_tools(hov)\n",
    "\n",
    "fig2=fig.quad(left=\"Start\", right=\"End\", bottom=0, top=1, color=\"green\", source=cds)\n",
    "\n",
    "output_file(\"TimeSeriesPlot.html\")\n",
    "show(fig)"
   ]
  },
  {
   "cell_type": "code",
   "execution_count": null,
   "metadata": {},
   "outputs": [],
   "source": []
  }
 ],
 "metadata": {
  "kernelspec": {
   "display_name": "Python 3",
   "language": "python",
   "name": "python3"
  },
  "language_info": {
   "codemirror_mode": {
    "name": "ipython",
    "version": 3
   },
   "file_extension": ".py",
   "mimetype": "text/x-python",
   "name": "python",
   "nbconvert_exporter": "python",
   "pygments_lexer": "ipython3",
   "version": "3.7.0"
  }
 },
 "nbformat": 4,
 "nbformat_minor": 2
}
