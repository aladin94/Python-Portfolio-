{
 "cells": [
  {
   "cell_type": "markdown",
   "metadata": {},
   "source": [
    "# Like usual, we begin by making the necessary imports. Here we are import Json (a lightweight data interchange format inspired by JavaScript object literal syntax), difflab (a module provides classes and functions for comparing sequences)."
   ]
  },
  {
   "cell_type": "code",
   "execution_count": null,
   "metadata": {},
   "outputs": [],
   "source": [
    "import json\n",
    "import difflib\n",
    "from difflib import get_close_matches"
   ]
  },
  {
   "cell_type": "markdown",
   "metadata": {},
   "source": [
    "## Next, we load the json data file, which  is comprised of tons of English words & definitions. We then create a function named Translate, which will be plugged into our input request and output the definition of whichever word the user provides. Notice that it compensates for several possibilities when it comes to the user's input; whether they use lowercase/uppercase, whether the word is typed correctly (if not then we will provide the word that most likely matches the word provided). Lastly, we use an IF statement to adjust the output to print out only the best definition as opposed to several; most words have multiple definitions."
   ]
  },
  {
   "cell_type": "code",
   "execution_count": 4,
   "metadata": {},
   "outputs": [
    {
     "name": "stdout",
     "output_type": "stream",
     "text": [
      "Enter word: rainn\n",
      "Did you mean rain instead? Enter Y if yes, or N if no: Y\n",
      "Precipitation in the form of liquid water drops with diameters greater than 0.5 millimetres.\n",
      "To fall from the clouds in drops of water.\n"
     ]
    }
   ],
   "source": [
    "\n",
    "data = json.load(open(\"C:\\\\Users\\\\admir\\\\Desktop\\\\data.json\"))\n",
    "def translate(w):\n",
    "    w = w.lower()\n",
    "    if w in data:\n",
    "        return data[w]\n",
    "    elif w.title() in data:\n",
    "        return data[w.title()]\n",
    "    elif w.upper() in data: #in case user enters words like USA or NATO\n",
    "        return data[w.upper()]\n",
    "    elif len(get_close_matches(w, data.keys())) > 0:\n",
    "        yn = input(\"Did you mean %s instead? Enter Y if yes, or N if no: \" % get_close_matches(w, data.keys())[0])\n",
    "        if yn == \"Y\":\n",
    "            return data[get_close_matches(w, data.keys())[0]]\n",
    "        elif yn == \"N\":\n",
    "            return \"The word doesn't exist. Please double check it.\"\n",
    "        else:\n",
    "            return \"We didn't understand your entry.\"\n",
    "    else:\n",
    "        return \"The word doesn't exist. Please double check it.\"\n",
    "word = input(\"Enter word: \")\n",
    "output = translate(word)\n",
    "if type(output) == list:\n",
    "    for item in output:\n",
    "        print(item)\n",
    "else:\n",
    "    print(output)"
   ]
  },
  {
   "cell_type": "code",
   "execution_count": null,
   "metadata": {},
   "outputs": [],
   "source": []
  }
 ],
 "metadata": {
  "kernelspec": {
   "display_name": "Python 3",
   "language": "python",
   "name": "python3"
  },
  "language_info": {
   "codemirror_mode": {
    "name": "ipython",
    "version": 3
   },
   "file_extension": ".py",
   "mimetype": "text/x-python",
   "name": "python",
   "nbconvert_exporter": "python",
   "pygments_lexer": "ipython3",
   "version": "3.7.0"
  }
 },
 "nbformat": 4,
 "nbformat_minor": 2
}
