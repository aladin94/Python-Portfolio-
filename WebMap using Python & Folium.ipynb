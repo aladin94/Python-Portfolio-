{
 "cells": [
  {
   "cell_type": "markdown",
   "metadata": {},
   "source": [
    "# Import the proper libraries, read in the file using pandas, and assign variables to the data set's Latitude, Longitude, and elevation columns."
   ]
  },
  {
   "cell_type": "code",
   "execution_count": 14,
   "metadata": {},
   "outputs": [],
   "source": [
    "import folium\n",
    "import pandas as pd\n",
    " \n",
    "data = pd.read_csv(\"C:\\\\Users\\\\admir\\\\Desktop\\\\Volcanoes.txt\")\n",
    "\n",
    "lat = list(data[\"LAT\"])\n",
    "lon = list(data[\"LON\"])\n",
    "elev = list(data[\"ELEV\"])"
   ]
  },
  {
   "cell_type": "code",
   "execution_count": 15,
   "metadata": {},
   "outputs": [],
   "source": [
    "\"\"\"Using html to add a description to each volcano.\"\"\"\n",
    "\n",
    "html = \"\"\"<h4>Elevation</h4>\n",
    "      %s m <br>!\n",
    "\"\"\""
   ]
  },
  {
   "cell_type": "markdown",
   "metadata": {},
   "source": [
    "# Define a function called \"Color_producer\" which will assign colors to our map based on the area's elevation."
   ]
  },
  {
   "cell_type": "code",
   "execution_count": 16,
   "metadata": {},
   "outputs": [],
   "source": [
    "def color_producer(elevation):\n",
    "    if elevation < 1000:\n",
    "        return 'green'\n",
    "    elif 1000 <= elevation < 3000:\n",
    "        return 'orange'\n",
    "    else:\n",
    "        return 'red'"
   ]
  },
  {
   "cell_type": "markdown",
   "metadata": {},
   "source": [
    "## Create a map object that takes in paramters for Location (a pair of coordinates that indicate where the webmap should open when the program is run), Zoom_start (how zoomed-in do you want the map to be when opened), and \"Tiles\" which essentially is the type of map layout)"
   ]
  },
  {
   "cell_type": "code",
   "execution_count": 17,
   "metadata": {},
   "outputs": [],
   "source": [
    "map = folium.Map(location=[38.58, -99.09], zoom_start=5, tiles=\"OpenStreetMap\")"
   ]
  },
  {
   "cell_type": "markdown",
   "metadata": {},
   "source": [
    "# The FGV object will be used to add a layer to our maps that can toggle on/off whether we want to see markers of volcano locations. We use a for loop to add a Circle Marker to those locations."
   ]
  },
  {
   "cell_type": "code",
   "execution_count": 18,
   "metadata": {},
   "outputs": [],
   "source": [
    "fgv = folium.FeatureGroup(name=\"Volcanoes\")\n",
    " \n",
    "for lt, ln, el in zip(lat, lon, elev):\n",
    "    iframe = folium.IFrame(html=html % str(el), width=200,height=100)\n",
    "    fgv.add_child(folium.CircleMarker(location=[lt, ln], radius = 6, popup=folium.Popup(iframe),\n",
    "    fill_color=color_producer(el), fill=True,  color = 'grey', fill_opacity=0.7))"
   ]
  },
  {
   "cell_type": "markdown",
   "metadata": {},
   "source": [
    "# Once again we create an another object, this time FGP will be used to divide our maps by Colors indicating that area's population. We use a lambda function here."
   ]
  },
  {
   "cell_type": "code",
   "execution_count": 19,
   "metadata": {},
   "outputs": [],
   "source": [
    "fgp = folium.FeatureGroup(name=\"Population\")"
   ]
  },
  {
   "cell_type": "code",
   "execution_count": 20,
   "metadata": {},
   "outputs": [
    {
     "data": {
      "text/plain": [
       "<folium.map.FeatureGroup at 0x24300c4fa58>"
      ]
     },
     "execution_count": 20,
     "metadata": {},
     "output_type": "execute_result"
    }
   ],
   "source": [
    "fgp.add_child(folium.GeoJson(data=open('C:\\\\Users\\\\admir\\\\Desktop\\\\world.json', 'r', encoding='utf-8-sig').read(),\n",
    "style_function=lambda x: {'fillColor':'green' if x['properties']['POP2005'] < 10000000\n",
    "else 'orange' if 10000000 <= x['properties']['POP2005'] < 20000000 else 'red'}))"
   ]
  },
  {
   "cell_type": "markdown",
   "metadata": {},
   "source": [
    "# Now We simply apply the object to our map using the built in Add_child method. Then we run the map."
   ]
  },
  {
   "cell_type": "code",
   "execution_count": 21,
   "metadata": {},
   "outputs": [],
   "source": [
    "map.add_child(fgv)\n",
    "map.add_child(fgp)\n",
    "map.add_child(folium.LayerControl())\n",
    "map.save(\"Map1\")"
   ]
  },
  {
   "cell_type": "code",
   "execution_count": 1,
   "metadata": {},
   "outputs": [
    {
     "data": {
      "text/plain": [
       "map"
      ]
     },
     "execution_count": 1,
     "metadata": {},
     "output_type": "execute_result"
    }
   ],
   "source": [
    "map"
   ]
  },
  {
   "cell_type": "markdown",
   "metadata": {},
   "source": []
  },
  {
   "cell_type": "code",
   "execution_count": null,
   "metadata": {},
   "outputs": [],
   "source": []
  }
 ],
 "metadata": {
  "kernelspec": {
   "display_name": "Python 3",
   "language": "python",
   "name": "python3"
  },
  "language_info": {
   "codemirror_mode": {
    "name": "ipython",
    "version": 3
   },
   "file_extension": ".py",
   "mimetype": "text/x-python",
   "name": "python",
   "nbconvert_exporter": "python",
   "pygments_lexer": "ipython3",
   "version": "3.7.0"
  }
 },
 "nbformat": 4,
 "nbformat_minor": 2
}
